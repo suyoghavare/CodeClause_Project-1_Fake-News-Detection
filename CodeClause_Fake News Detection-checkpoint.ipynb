{
 "cells": [
  {
   "cell_type": "markdown",
   "id": "55e64169",
   "metadata": {},
   "source": [
    "# CodeClause\n",
    "\n",
    "Suyog Havare - Data Science Intern\n",
    "\n",
    "Task - 1 Fake News Detection\n",
    "\n",
    "Fake News means incorporating information that leads people to the wrong paths. It can have real-world adverse effects that aim to intentionally deceive, gain attention, manipulate public opinion, or damage reputation. It is necessary to detect fake news mainly for media outlets to have the ability to attract viewers to their website to generate online advertising revenue.\n",
    "\n",
    "Link for the dataset: https://drive.google.com/file/d/1XoHoUjZtLQ6gh_CPv9_igtZoEsdkgq3t/view"
   ]
  },
  {
   "cell_type": "code",
   "execution_count": 2,
   "id": "00435d69",
   "metadata": {},
   "outputs": [
    {
     "data": {
      "text/html": [
       "<div>\n",
       "<style scoped>\n",
       "    .dataframe tbody tr th:only-of-type {\n",
       "        vertical-align: middle;\n",
       "    }\n",
       "\n",
       "    .dataframe tbody tr th {\n",
       "        vertical-align: top;\n",
       "    }\n",
       "\n",
       "    .dataframe thead th {\n",
       "        text-align: right;\n",
       "    }\n",
       "</style>\n",
       "<table border=\"1\" class=\"dataframe\">\n",
       "  <thead>\n",
       "    <tr style=\"text-align: right;\">\n",
       "      <th></th>\n",
       "      <th>Unnamed: 0</th>\n",
       "      <th>title</th>\n",
       "      <th>text</th>\n",
       "      <th>label</th>\n",
       "    </tr>\n",
       "  </thead>\n",
       "  <tbody>\n",
       "    <tr>\n",
       "      <th>0</th>\n",
       "      <td>8476</td>\n",
       "      <td>You Can Smell Hillary’s Fear</td>\n",
       "      <td>Daniel Greenfield, a Shillman Journalism Fello...</td>\n",
       "      <td>FAKE</td>\n",
       "    </tr>\n",
       "    <tr>\n",
       "      <th>1</th>\n",
       "      <td>10294</td>\n",
       "      <td>Watch The Exact Moment Paul Ryan Committed Pol...</td>\n",
       "      <td>Google Pinterest Digg Linkedin Reddit Stumbleu...</td>\n",
       "      <td>FAKE</td>\n",
       "    </tr>\n",
       "    <tr>\n",
       "      <th>2</th>\n",
       "      <td>3608</td>\n",
       "      <td>Kerry to go to Paris in gesture of sympathy</td>\n",
       "      <td>U.S. Secretary of State John F. Kerry said Mon...</td>\n",
       "      <td>REAL</td>\n",
       "    </tr>\n",
       "    <tr>\n",
       "      <th>3</th>\n",
       "      <td>10142</td>\n",
       "      <td>Bernie supporters on Twitter erupt in anger ag...</td>\n",
       "      <td>— Kaydee King (@KaydeeKing) November 9, 2016 T...</td>\n",
       "      <td>FAKE</td>\n",
       "    </tr>\n",
       "    <tr>\n",
       "      <th>4</th>\n",
       "      <td>875</td>\n",
       "      <td>The Battle of New York: Why This Primary Matters</td>\n",
       "      <td>It's primary day in New York and front-runners...</td>\n",
       "      <td>REAL</td>\n",
       "    </tr>\n",
       "  </tbody>\n",
       "</table>\n",
       "</div>"
      ],
      "text/plain": [
       "   Unnamed: 0                                              title  \\\n",
       "0        8476                       You Can Smell Hillary’s Fear   \n",
       "1       10294  Watch The Exact Moment Paul Ryan Committed Pol...   \n",
       "2        3608        Kerry to go to Paris in gesture of sympathy   \n",
       "3       10142  Bernie supporters on Twitter erupt in anger ag...   \n",
       "4         875   The Battle of New York: Why This Primary Matters   \n",
       "\n",
       "                                                text label  \n",
       "0  Daniel Greenfield, a Shillman Journalism Fello...  FAKE  \n",
       "1  Google Pinterest Digg Linkedin Reddit Stumbleu...  FAKE  \n",
       "2  U.S. Secretary of State John F. Kerry said Mon...  REAL  \n",
       "3  — Kaydee King (@KaydeeKing) November 9, 2016 T...  FAKE  \n",
       "4  It's primary day in New York and front-runners...  REAL  "
      ]
     },
     "execution_count": 2,
     "metadata": {},
     "output_type": "execute_result"
    }
   ],
   "source": [
    "import numpy as np\n",
    "import pandas as pd\n",
    "import json\n",
    "import csv\n",
    "import random\n",
    "\n",
    "from tensorflow.keras.preprocessing.text import Tokenizer\n",
    "from tensorflow.keras.preprocessing.sequence import pad_sequences\n",
    "from tensorflow.keras.utils import to_categorical\n",
    "from tensorflow.keras import regularizers\n",
    "\n",
    "import pprint\n",
    "import tensorflow.compat.v1 as tf\n",
    "from tensorflow.python.framework import ops\n",
    "from sklearn.model_selection import train_test_split\n",
    "from sklearn import preprocessing\n",
    "tf.disable_eager_execution()\n",
    "\n",
    "# Reading the data\n",
    "data = pd.read_csv(r'C:\\Users\\HP\\Downloads\\news.csv')\n",
    "data.head()\n"
   ]
  },
  {
   "cell_type": "code",
   "execution_count": 3,
   "id": "9703beba",
   "metadata": {},
   "outputs": [
    {
     "data": {
      "text/html": [
       "<div>\n",
       "<style scoped>\n",
       "    .dataframe tbody tr th:only-of-type {\n",
       "        vertical-align: middle;\n",
       "    }\n",
       "\n",
       "    .dataframe tbody tr th {\n",
       "        vertical-align: top;\n",
       "    }\n",
       "\n",
       "    .dataframe thead th {\n",
       "        text-align: right;\n",
       "    }\n",
       "</style>\n",
       "<table border=\"1\" class=\"dataframe\">\n",
       "  <thead>\n",
       "    <tr style=\"text-align: right;\">\n",
       "      <th></th>\n",
       "      <th>title</th>\n",
       "      <th>text</th>\n",
       "      <th>label</th>\n",
       "    </tr>\n",
       "  </thead>\n",
       "  <tbody>\n",
       "    <tr>\n",
       "      <th>0</th>\n",
       "      <td>You Can Smell Hillary’s Fear</td>\n",
       "      <td>Daniel Greenfield, a Shillman Journalism Fello...</td>\n",
       "      <td>FAKE</td>\n",
       "    </tr>\n",
       "    <tr>\n",
       "      <th>1</th>\n",
       "      <td>Watch The Exact Moment Paul Ryan Committed Pol...</td>\n",
       "      <td>Google Pinterest Digg Linkedin Reddit Stumbleu...</td>\n",
       "      <td>FAKE</td>\n",
       "    </tr>\n",
       "    <tr>\n",
       "      <th>2</th>\n",
       "      <td>Kerry to go to Paris in gesture of sympathy</td>\n",
       "      <td>U.S. Secretary of State John F. Kerry said Mon...</td>\n",
       "      <td>REAL</td>\n",
       "    </tr>\n",
       "    <tr>\n",
       "      <th>3</th>\n",
       "      <td>Bernie supporters on Twitter erupt in anger ag...</td>\n",
       "      <td>— Kaydee King (@KaydeeKing) November 9, 2016 T...</td>\n",
       "      <td>FAKE</td>\n",
       "    </tr>\n",
       "    <tr>\n",
       "      <th>4</th>\n",
       "      <td>The Battle of New York: Why This Primary Matters</td>\n",
       "      <td>It's primary day in New York and front-runners...</td>\n",
       "      <td>REAL</td>\n",
       "    </tr>\n",
       "  </tbody>\n",
       "</table>\n",
       "</div>"
      ],
      "text/plain": [
       "                                               title  \\\n",
       "0                       You Can Smell Hillary’s Fear   \n",
       "1  Watch The Exact Moment Paul Ryan Committed Pol...   \n",
       "2        Kerry to go to Paris in gesture of sympathy   \n",
       "3  Bernie supporters on Twitter erupt in anger ag...   \n",
       "4   The Battle of New York: Why This Primary Matters   \n",
       "\n",
       "                                                text label  \n",
       "0  Daniel Greenfield, a Shillman Journalism Fello...  FAKE  \n",
       "1  Google Pinterest Digg Linkedin Reddit Stumbleu...  FAKE  \n",
       "2  U.S. Secretary of State John F. Kerry said Mon...  REAL  \n",
       "3  — Kaydee King (@KaydeeKing) November 9, 2016 T...  FAKE  \n",
       "4  It's primary day in New York and front-runners...  REAL  "
      ]
     },
     "execution_count": 3,
     "metadata": {},
     "output_type": "execute_result"
    }
   ],
   "source": [
    "data = data.drop([\"Unnamed: 0\"], axis=1)\n",
    "data.head(5)\n"
   ]
  },
  {
   "cell_type": "code",
   "execution_count": null,
   "id": "8393d379",
   "metadata": {},
   "outputs": [],
   "source": []
  },
  {
   "cell_type": "code",
   "execution_count": 5,
   "id": "027aae3f",
   "metadata": {},
   "outputs": [],
   "source": [
    "# encoding the labels\n",
    "le = preprocessing.LabelEncoder()\n",
    "le.fit(data['label'])\n",
    "data['label'] = le.transform(data['label'])\n",
    "\n"
   ]
  },
  {
   "cell_type": "code",
   "execution_count": 6,
   "id": "7eda8f72",
   "metadata": {},
   "outputs": [],
   "source": [
    "embedding_dim = 50\n",
    "max_length = 54\n",
    "trunc_type = 'post'\n",
    "padding_type = 'post'\n",
    "oov_tok = \"<OOV>\"\n",
    "training_size = 3000\n",
    "test_portion = .1\n"
   ]
  },
  {
   "cell_type": "code",
   "execution_count": 7,
   "id": "3256486a",
   "metadata": {},
   "outputs": [],
   "source": [
    "title = []\n",
    "text = []\n",
    "labels = []\n",
    "for x in range(training_size):\n",
    "\ttitle.append(data['title'][x])\n",
    "\ttext.append(data['text'][x])\n",
    "\tlabels.append(data['label'][x])\n"
   ]
  },
  {
   "cell_type": "code",
   "execution_count": 9,
   "id": "c2afe4e8",
   "metadata": {},
   "outputs": [],
   "source": [
    "tokenizer1 = Tokenizer()\n",
    "tokenizer1.fit_on_texts(title)\n",
    "word_index1 = tokenizer1.word_index\n",
    "vocab_size1 = len(word_index1)\n",
    "sequences1 = tokenizer1.texts_to_sequences(title)\n",
    "padded1 = pad_sequences(\n",
    "\tsequences1, padding=padding_type, truncating=trunc_type)\n",
    "split = int(test_portion * training_size)\n",
    "training_sequences1 = padded1[split:training_size]\n",
    "test_sequences1 = padded1[0:split]\n",
    "test_labels = labels[0:split]\n",
    "training_labels = labels[split:training_size]\n"
   ]
  },
  {
   "cell_type": "code",
   "execution_count": 16,
   "id": "a6d428cd",
   "metadata": {},
   "outputs": [],
   "source": [
    "embeddings_index = {}\n",
    "with open(r'C:\\Users\\HP\\Downloads\\glove.6B.50d.txt',encoding='utf-8') as f:\n",
    "\tfor line in f:\n",
    "\t\tvalues = line.split()\n",
    "\t\tword = values[0]\n",
    "\t\tcoefs = np.asarray(values[1:], dtype='float32')\n",
    "\t\tembeddings_index[word] = coefs\n",
    "\n",
    "# Generating embeddings\n",
    "embeddings_matrix = np.zeros((vocab_size1+1, embedding_dim))\n",
    "for word, i in word_index1.items():\n",
    "\tembedding_vector = embeddings_index.get(word)\n",
    "\tif embedding_vector is not None:\n",
    "\t\tembeddings_matrix[i] = embedding_vector\n",
    "\n",
    "\n"
   ]
  },
  {
   "cell_type": "code",
   "execution_count": 17,
   "id": "e6986318",
   "metadata": {},
   "outputs": [
    {
     "name": "stdout",
     "output_type": "stream",
     "text": [
      "Model: \"sequential\"\n",
      "_________________________________________________________________\n",
      " Layer (type)                Output Shape              Param #   \n",
      "=================================================================\n",
      " embedding (Embedding)       (None, 54, 50)            377600    \n",
      "                                                                 \n",
      " dropout (Dropout)           (None, 54, 50)            0         \n",
      "                                                                 \n",
      " conv1d (Conv1D)             (None, 50, 64)            16064     \n",
      "                                                                 \n",
      " max_pooling1d (MaxPooling1D  (None, 12, 64)           0         \n",
      " )                                                               \n",
      "                                                                 \n",
      " lstm (LSTM)                 (None, 64)                33024     \n",
      "                                                                 \n",
      " dense (Dense)               (None, 1)                 65        \n",
      "                                                                 \n",
      "=================================================================\n",
      "Total params: 426,753\n",
      "Trainable params: 49,153\n",
      "Non-trainable params: 377,600\n",
      "_________________________________________________________________\n"
     ]
    }
   ],
   "source": [
    "model = tf.keras.Sequential([tf.keras.layers.Embedding(vocab_size1+1, embedding_dim,input_length=max_length, weights=[embeddings_matrix],trainable=False),tf.keras.layers.Dropout(0.2),tf.keras.layers.Conv1D(64, 5, activation='relu'),tf.keras.layers.MaxPooling1D(pool_size=4),tf.keras.layers.LSTM(64),tf.keras.layers.Dense(1, activation='sigmoid')])\n",
    "model.compile(loss='binary_crossentropy',optimizer='adam', metrics=['accuracy'])\n",
    "model.summary()"
   ]
  },
  {
   "cell_type": "code",
   "execution_count": 18,
   "id": "a250802e",
   "metadata": {},
   "outputs": [
    {
     "name": "stdout",
     "output_type": "stream",
     "text": [
      "Train on 2700 samples, validate on 300 samples\n",
      "Epoch 1/50\n"
     ]
    },
    {
     "name": "stderr",
     "output_type": "stream",
     "text": [
      "C:\\Users\\HP\\Python310\\lib\\site-packages\\keras\\engine\\training_v1.py:2333: UserWarning: `Model.state_updates` will be removed in a future version. This property should not be used in TensorFlow 2.0, as `updates` are applied automatically.\n",
      "  updates = self.state_updates\n"
     ]
    },
    {
     "name": "stdout",
     "output_type": "stream",
     "text": [
      "2700/2700 - 4s - loss: 0.6516 - accuracy: 0.6081 - val_loss: 0.5874 - val_accuracy: 0.6800 - 4s/epoch - 2ms/sample\n",
      "Epoch 2/50\n",
      "2700/2700 - 2s - loss: 0.5760 - accuracy: 0.6948 - val_loss: 0.5260 - val_accuracy: 0.7100 - 2s/epoch - 667us/sample\n",
      "Epoch 3/50\n",
      "2700/2700 - 2s - loss: 0.5373 - accuracy: 0.7233 - val_loss: 0.5421 - val_accuracy: 0.7200 - 2s/epoch - 724us/sample\n",
      "Epoch 4/50\n",
      "2700/2700 - 2s - loss: 0.4817 - accuracy: 0.7678 - val_loss: 0.4931 - val_accuracy: 0.7333 - 2s/epoch - 727us/sample\n",
      "Epoch 5/50\n",
      "2700/2700 - 2s - loss: 0.4464 - accuracy: 0.7885 - val_loss: 0.5157 - val_accuracy: 0.7467 - 2s/epoch - 725us/sample\n",
      "Epoch 6/50\n",
      "2700/2700 - 2s - loss: 0.3959 - accuracy: 0.8215 - val_loss: 0.5061 - val_accuracy: 0.7533 - 2s/epoch - 719us/sample\n",
      "Epoch 7/50\n",
      "2700/2700 - 2s - loss: 0.3532 - accuracy: 0.8467 - val_loss: 0.4655 - val_accuracy: 0.7700 - 2s/epoch - 732us/sample\n",
      "Epoch 8/50\n",
      "2700/2700 - 2s - loss: 0.3171 - accuracy: 0.8630 - val_loss: 0.5154 - val_accuracy: 0.7567 - 2s/epoch - 729us/sample\n",
      "Epoch 9/50\n",
      "2700/2700 - 2s - loss: 0.2903 - accuracy: 0.8722 - val_loss: 0.4642 - val_accuracy: 0.7767 - 2s/epoch - 736us/sample\n",
      "Epoch 10/50\n",
      "2700/2700 - 2s - loss: 0.2698 - accuracy: 0.8822 - val_loss: 0.4941 - val_accuracy: 0.7700 - 2s/epoch - 724us/sample\n",
      "Epoch 11/50\n",
      "2700/2700 - 2s - loss: 0.2593 - accuracy: 0.8993 - val_loss: 0.4804 - val_accuracy: 0.7667 - 2s/epoch - 723us/sample\n",
      "Epoch 12/50\n",
      "2700/2700 - 2s - loss: 0.2463 - accuracy: 0.9048 - val_loss: 0.4742 - val_accuracy: 0.7733 - 2s/epoch - 729us/sample\n",
      "Epoch 13/50\n",
      "2700/2700 - 2s - loss: 0.1915 - accuracy: 0.9222 - val_loss: 0.6024 - val_accuracy: 0.7467 - 2s/epoch - 827us/sample\n",
      "Epoch 14/50\n",
      "2700/2700 - 2s - loss: 0.1788 - accuracy: 0.9333 - val_loss: 0.6160 - val_accuracy: 0.7600 - 2s/epoch - 880us/sample\n",
      "Epoch 15/50\n",
      "2700/2700 - 3s - loss: 0.1771 - accuracy: 0.9315 - val_loss: 0.6155 - val_accuracy: 0.7567 - 3s/epoch - 1ms/sample\n",
      "Epoch 16/50\n",
      "2700/2700 - 2s - loss: 0.1787 - accuracy: 0.9267 - val_loss: 0.6068 - val_accuracy: 0.7633 - 2s/epoch - 863us/sample\n",
      "Epoch 17/50\n",
      "2700/2700 - 3s - loss: 0.1511 - accuracy: 0.9430 - val_loss: 0.6212 - val_accuracy: 0.7600 - 3s/epoch - 941us/sample\n",
      "Epoch 18/50\n",
      "2700/2700 - 2s - loss: 0.1469 - accuracy: 0.9422 - val_loss: 0.5985 - val_accuracy: 0.7600 - 2s/epoch - 833us/sample\n",
      "Epoch 19/50\n",
      "2700/2700 - 2s - loss: 0.1360 - accuracy: 0.9481 - val_loss: 0.6055 - val_accuracy: 0.7633 - 2s/epoch - 816us/sample\n",
      "Epoch 20/50\n",
      "2700/2700 - 2s - loss: 0.1351 - accuracy: 0.9474 - val_loss: 0.6210 - val_accuracy: 0.7867 - 2s/epoch - 795us/sample\n",
      "Epoch 21/50\n",
      "2700/2700 - 2s - loss: 0.1361 - accuracy: 0.9463 - val_loss: 0.6686 - val_accuracy: 0.7700 - 2s/epoch - 799us/sample\n",
      "Epoch 22/50\n",
      "2700/2700 - 2s - loss: 0.1329 - accuracy: 0.9467 - val_loss: 0.7078 - val_accuracy: 0.7567 - 2s/epoch - 818us/sample\n",
      "Epoch 23/50\n",
      "2700/2700 - 2s - loss: 0.1166 - accuracy: 0.9519 - val_loss: 0.5494 - val_accuracy: 0.7900 - 2s/epoch - 794us/sample\n",
      "Epoch 24/50\n",
      "2700/2700 - 2s - loss: 0.1063 - accuracy: 0.9563 - val_loss: 0.6784 - val_accuracy: 0.7700 - 2s/epoch - 825us/sample\n",
      "Epoch 25/50\n",
      "2700/2700 - 2s - loss: 0.1153 - accuracy: 0.9559 - val_loss: 0.6093 - val_accuracy: 0.7900 - 2s/epoch - 814us/sample\n",
      "Epoch 26/50\n",
      "2700/2700 - 2s - loss: 0.0923 - accuracy: 0.9637 - val_loss: 0.6890 - val_accuracy: 0.7533 - 2s/epoch - 835us/sample\n",
      "Epoch 27/50\n",
      "2700/2700 - 2s - loss: 0.1060 - accuracy: 0.9581 - val_loss: 0.6914 - val_accuracy: 0.7733 - 2s/epoch - 789us/sample\n",
      "Epoch 28/50\n",
      "2700/2700 - 2s - loss: 0.0888 - accuracy: 0.9656 - val_loss: 0.7257 - val_accuracy: 0.7667 - 2s/epoch - 800us/sample\n",
      "Epoch 29/50\n",
      "2700/2700 - 2s - loss: 0.0996 - accuracy: 0.9648 - val_loss: 0.6786 - val_accuracy: 0.7667 - 2s/epoch - 818us/sample\n",
      "Epoch 30/50\n",
      "2700/2700 - 2s - loss: 0.1010 - accuracy: 0.9593 - val_loss: 0.7577 - val_accuracy: 0.7767 - 2s/epoch - 803us/sample\n",
      "Epoch 31/50\n",
      "2700/2700 - 2s - loss: 0.0697 - accuracy: 0.9763 - val_loss: 0.7190 - val_accuracy: 0.7833 - 2s/epoch - 713us/sample\n",
      "Epoch 32/50\n",
      "2700/2700 - 2s - loss: 0.0794 - accuracy: 0.9719 - val_loss: 0.8251 - val_accuracy: 0.7533 - 2s/epoch - 796us/sample\n",
      "Epoch 33/50\n",
      "2700/2700 - 2s - loss: 0.0771 - accuracy: 0.9678 - val_loss: 0.7081 - val_accuracy: 0.7800 - 2s/epoch - 795us/sample\n",
      "Epoch 34/50\n",
      "2700/2700 - 2s - loss: 0.0766 - accuracy: 0.9719 - val_loss: 0.7278 - val_accuracy: 0.7733 - 2s/epoch - 780us/sample\n",
      "Epoch 35/50\n",
      "2700/2700 - 2s - loss: 0.0677 - accuracy: 0.9752 - val_loss: 0.6672 - val_accuracy: 0.7933 - 2s/epoch - 792us/sample\n",
      "Epoch 36/50\n",
      "2700/2700 - 2s - loss: 0.0823 - accuracy: 0.9689 - val_loss: 0.8395 - val_accuracy: 0.7700 - 2s/epoch - 793us/sample\n",
      "Epoch 37/50\n",
      "2700/2700 - 2s - loss: 0.0716 - accuracy: 0.9719 - val_loss: 0.8017 - val_accuracy: 0.7567 - 2s/epoch - 788us/sample\n",
      "Epoch 38/50\n",
      "2700/2700 - 2s - loss: 0.0739 - accuracy: 0.9730 - val_loss: 0.8841 - val_accuracy: 0.7800 - 2s/epoch - 779us/sample\n",
      "Epoch 39/50\n",
      "2700/2700 - 2s - loss: 0.0766 - accuracy: 0.9730 - val_loss: 0.8209 - val_accuracy: 0.7500 - 2s/epoch - 774us/sample\n",
      "Epoch 40/50\n",
      "2700/2700 - 2s - loss: 0.0692 - accuracy: 0.9770 - val_loss: 0.8009 - val_accuracy: 0.7400 - 2s/epoch - 776us/sample\n",
      "Epoch 41/50\n",
      "2700/2700 - 2s - loss: 0.0667 - accuracy: 0.9778 - val_loss: 0.8750 - val_accuracy: 0.7667 - 2s/epoch - 680us/sample\n",
      "Epoch 42/50\n",
      "2700/2700 - 2s - loss: 0.0735 - accuracy: 0.9722 - val_loss: 0.8781 - val_accuracy: 0.7500 - 2s/epoch - 585us/sample\n",
      "Epoch 43/50\n",
      "2700/2700 - 2s - loss: 0.0724 - accuracy: 0.9733 - val_loss: 0.9016 - val_accuracy: 0.7633 - 2s/epoch - 581us/sample\n",
      "Epoch 44/50\n",
      "2700/2700 - 2s - loss: 0.0886 - accuracy: 0.9667 - val_loss: 0.8033 - val_accuracy: 0.7667 - 2s/epoch - 797us/sample\n",
      "Epoch 45/50\n",
      "2700/2700 - 2s - loss: 0.0737 - accuracy: 0.9741 - val_loss: 0.8661 - val_accuracy: 0.7767 - 2s/epoch - 735us/sample\n",
      "Epoch 46/50\n",
      "2700/2700 - 2s - loss: 0.0650 - accuracy: 0.9781 - val_loss: 0.9088 - val_accuracy: 0.7667 - 2s/epoch - 624us/sample\n",
      "Epoch 47/50\n",
      "2700/2700 - 2s - loss: 0.0651 - accuracy: 0.9759 - val_loss: 0.9729 - val_accuracy: 0.7500 - 2s/epoch - 614us/sample\n",
      "Epoch 48/50\n",
      "2700/2700 - 2s - loss: 0.0508 - accuracy: 0.9815 - val_loss: 0.8818 - val_accuracy: 0.7667 - 2s/epoch - 628us/sample\n",
      "Epoch 49/50\n",
      "2700/2700 - 2s - loss: 0.0593 - accuracy: 0.9822 - val_loss: 0.8495 - val_accuracy: 0.7633 - 2s/epoch - 567us/sample\n",
      "Epoch 50/50\n",
      "2700/2700 - 61s - loss: 0.0477 - accuracy: 0.9826 - val_loss: 0.9453 - val_accuracy: 0.7700 - 61s/epoch - 22ms/sample\n"
     ]
    }
   ],
   "source": [
    "num_epochs = 50\n",
    "\n",
    "training_padded = np.array(training_sequences1)\n",
    "training_labels = np.array(training_labels)\n",
    "testing_padded = np.array(test_sequences1)\n",
    "testing_labels = np.array(test_labels)\n",
    "\n",
    "history = model.fit(training_padded, training_labels,epochs=num_epochs,validation_data=(testing_padded,testing_labels),verbose=2)\n"
   ]
  },
  {
   "cell_type": "code",
   "execution_count": 21,
   "id": "0971e6a1",
   "metadata": {},
   "outputs": [
    {
     "name": "stderr",
     "output_type": "stream",
     "text": [
      "C:\\Users\\HP\\Python310\\lib\\site-packages\\keras\\engine\\training_v1.py:2357: UserWarning: `Model.state_updates` will be removed in a future version. This property should not be used in TensorFlow 2.0, as `updates` are applied automatically.\n",
      "  updates=self.state_updates,\n"
     ]
    },
    {
     "name": "stdout",
     "output_type": "stream",
     "text": [
      "This news is false\n"
     ]
    }
   ],
   "source": [
    "# sample text to check if fake or not\n",
    "X = \"Karry to go to France in gesture of sympathy\"\n",
    "\n",
    "# detection\n",
    "sequences = tokenizer1.texts_to_sequences([X])[0]\n",
    "sequences = pad_sequences([sequences], maxlen=54,padding=padding_type,truncating=trunc_type)\n",
    "if(model.predict(sequences, verbose=0)[0][0] >= 0.5):\n",
    "\tprint(\"This news is True\")\n",
    "else:\n",
    "\tprint(\"This news is false\")\n"
   ]
  },
  {
   "cell_type": "code",
   "execution_count": 22,
   "id": "4dd70d97",
   "metadata": {},
   "outputs": [
    {
     "name": "stdout",
     "output_type": "stream",
     "text": [
      "This news is True\n"
     ]
    }
   ],
   "source": [
    "# sample text to check if fake or not\n",
    "X = \"The Battle of New York: Why This Primary Matters\"\n",
    "\n",
    "# detection\n",
    "sequences = tokenizer1.texts_to_sequences([X])[0]\n",
    "sequences = pad_sequences([sequences], maxlen=54,padding=padding_type,truncating=trunc_type)\n",
    "if(model.predict(sequences, verbose=0)[0][0] >= 0.5):\n",
    "\tprint(\"This news is True\")\n",
    "else:\n",
    "\tprint(\"This news is false\")"
   ]
  },
  {
   "cell_type": "code",
   "execution_count": null,
   "id": "3bdff63b",
   "metadata": {},
   "outputs": [],
   "source": []
  }
 ],
 "metadata": {
  "kernelspec": {
   "display_name": "Python 3 (ipykernel)",
   "language": "python",
   "name": "python3"
  },
  "language_info": {
   "codemirror_mode": {
    "name": "ipython",
    "version": 3
   },
   "file_extension": ".py",
   "mimetype": "text/x-python",
   "name": "python",
   "nbconvert_exporter": "python",
   "pygments_lexer": "ipython3",
   "version": "3.10.0"
  }
 },
 "nbformat": 4,
 "nbformat_minor": 5
}
